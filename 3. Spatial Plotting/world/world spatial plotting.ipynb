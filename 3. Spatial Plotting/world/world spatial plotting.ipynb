{
 "cells": [
  {
   "cell_type": "code",
   "execution_count": null,
   "id": "d12f8a01-553d-4990-b4af-7a5dae9a9b2d",
   "metadata": {},
   "outputs": [],
   "source": [
    "import pandas as pd \n",
    "\n",
    "# Replace 'df' with the actual name of your DataFrame\n",
    "# Replace 'lat with your actual latitude column name\n",
    "# Replace 'lon' with your actual longitude column name\n",
    "averaged_df = df.groupby(['lat', 'lon']).mean().reset_index()\n",
    "\n",
    "# Display the resulting DataFrame with the average values for each latitude and longitude\n",
    "averaged_df"
   ]
  },
  {
   "cell_type": "code",
   "execution_count": null,
   "id": "9ce50401-decc-4cac-8bb7-36f521a22e4c",
   "metadata": {},
   "outputs": [],
   "source": [
    "import matplotlib.pyplot as plt  \n",
    "from mpl_toolkits.basemap import Basemap  \n",
    "import numpy as np  \n",
    "\n",
    "# Function to create the plot\n",
    "def create_plot(color_scale, color_map):\n",
    "    plt.figure(figsize=(10, 8))  # Create a new figure with specified size\n",
    "\n",
    "# Available map projection types: ['robin', 'mill', 'merc', 'tmerc', 'aea', 'lcc', 'stere', 'aeqd', 'laea', 'moll', 'sinu', 'goes', 'wink3', 'fll', 'eck4', 'aitoff']\n",
    "\n",
    "    # Initializing a Basemap with Robinson projection\n",
    "    m = Basemap(projection='robin', resolution='c', lat_0=0, lon_0=0)\n",
    "    \n",
    "    # Drawing map boundaries and features\n",
    "    m.drawcoastlines() \n",
    "    m.drawcountries()  \n",
    "    m.fillcontinents(color='lightgray', lake_color='white')  \n",
    "    m.drawmapboundary(fill_color='white')  \n",
    "    \n",
    "    # Convert lat/lon to map projection coordinates\n",
    "    x, y = m(averaged_df['lon'].values, averaged_df['lat'].values) \n",
    "    \n",
    "    ### Replace 'variable name' with your data column name ###\n",
    "    sc = m.scatter(x, y, c=averaged_df['variable name'], cmap=color_map, vmin=-color_scale, vmax=color_scale, s=5, alpha=0.7)  \n",
    "\n",
    "    # Adding colorbar\n",
    "    cbar = plt.colorbar(sc, label='Variable Name', extend='both', shrink=0.6) ### Set label name as required ###\n",
    "    cbar.ax.invert_yaxis()  \n",
    "    \n",
    "    plt.title('Spatial Plot of Variable Name Data')  ### Set plot title ###\n",
    "    plt.savefig('output_figure.png', dpi=300)        ### Save the plot  ###\n",
    "    plt.show()                                       # Display the plot \n",
    "\n",
    "# Set your desired color scale and colormap\n",
    "color_scale = 30        # Example value for color scale\n",
    "\n",
    "# Color map options : ['PiYG', 'PRGn', 'BrBG', 'PuOr', 'RdGy', 'jet_r', 'RdBu', 'RdYlBu', 'RdYlGn', 'Spectral', 'coolwarm', 'bwr', 'seismic']\n",
    "color_map = 'Spectral'  # Choose a color map option\n",
    "\n",
    "# Create the plot\n",
    "create_plot(color_scale, color_map)"
   ]
  }
 ],
 "metadata": {
  "kernelspec": {
   "display_name": "Python 3 (ipykernel)",
   "language": "python",
   "name": "python3"
  },
  "language_info": {
   "codemirror_mode": {
    "name": "ipython",
    "version": 3
   },
   "file_extension": ".py",
   "mimetype": "text/x-python",
   "name": "python",
   "nbconvert_exporter": "python",
   "pygments_lexer": "ipython3",
   "version": "3.12.3"
  }
 },
 "nbformat": 4,
 "nbformat_minor": 5
}
