{
 "cells": [
  {
   "cell_type": "code",
   "execution_count": null,
   "id": "5b777c49-646e-4215-84ca-c58cb6a2647e",
   "metadata": {},
   "outputs": [],
   "source": [
    "import xarray as xr  \n",
    "\n",
    "# Replace 'your_nc_file.nc' with your actual file path\n",
    "nc_file = \"your_nc_file.nc\"\n",
    "ds = xr.open_dataset(nc_file)  \n",
    "\n",
    "# Split the data based on time\n",
    "\n",
    "# For example >> If 'your_nc_file.nc' has data from 1980-2020 \n",
    "# If we want to split the original file into two files from 1980-2000 and  2001-2020.\n",
    "\n",
    "# Select data from 1980 to 2000\n",
    "ds_1980_2000 = ds.sel(time=slice('1980-01-01', '2000-12-31'))  \n",
    "\n",
    "# Select data from 2001 to 2020\n",
    "ds_2001_2020 = ds.sel(time=slice('2001-01-01', '2020-12-31'))  \n",
    "\n",
    "# Define file paths for the split files\n",
    "split_file_1 = \"split_file_1980_2000.nc\"  # Path for the first split file\n",
    "split_file_2 = \"split_file_2001_2020.nc\"  # Path for the second split file\n",
    "\n",
    "# Save the split datasets to separate NetCDF files\n",
    "ds_1980_2000.to_netcdf(split_file_1)  # Save the 1980-2000 dataset\n",
    "ds_2001_2020.to_netcdf(split_file_2)  # Save the 2001-2020 dataset\n",
    "\n",
    "# Print confirmation messages to indicate successful saving\n",
    "print(f\"First split file saved successfully: {split_file_1}\")  \n",
    "print(f\"Second split file saved successfully: {split_file_2}\")  "
   ]
  }
 ],
 "metadata": {
  "kernelspec": {
   "display_name": "Python 3 (ipykernel)",
   "language": "python",
   "name": "python3"
  },
  "language_info": {
   "codemirror_mode": {
    "name": "ipython",
    "version": 3
   },
   "file_extension": ".py",
   "mimetype": "text/x-python",
   "name": "python",
   "nbconvert_exporter": "python",
   "pygments_lexer": "ipython3",
   "version": "3.12.3"
  }
 },
 "nbformat": 4,
 "nbformat_minor": 5
}
