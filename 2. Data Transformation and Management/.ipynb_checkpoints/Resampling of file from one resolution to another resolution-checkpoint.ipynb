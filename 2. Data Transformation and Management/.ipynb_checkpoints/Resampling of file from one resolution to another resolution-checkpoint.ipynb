{
 "cells": [
  {
   "cell_type": "code",
   "execution_count": null,
   "id": "210697ef-35a8-4ad0-8579-7997031dca84",
   "metadata": {},
   "outputs": [],
   "source": [
    "import xarray as xr  \n",
    "import numpy as np \n",
    "\n",
    "# Load the NetCDF data\n",
    "data = xr.open_dataset(\"your_input_file.nc\")  # Replace 'your_input_file.nc' with your actual NetCDF file path\n",
    "\n",
    "# Define new latitude and longitude coordinates with 0.25° resolution\n",
    "# (You can adjust these values(0.25°) based on your resolution requirement)\n",
    "new_lon = np.arange(data.lon.min(), data.lon.max(), 0.25)  # Longitudes\n",
    "new_lat = np.arange(data.lat.min(), data.lat.max(), 0.25)  # Latitudes \n",
    "\n",
    "# Resample the data to new spatial resolution (0.25° × 0.25°)\n",
    "# (You can change 'linear' to another interpolation method if needed)\n",
    "resampled_data = data.interp(lon=new_lon, lat=new_lat, method='linear')  # Linear\n",
    "\n",
    "print(resampled_data)  \n",
    "\n",
    "# Save the resampled data to a new NetCDF file\n",
    "resampled_data.to_netcdf('your_output_file.nc')  # Replace 'your_output_file.nc' with your desired output file name\n"
   ]
  }
 ],
 "metadata": {
  "kernelspec": {
   "display_name": "Python 3 (ipykernel)",
   "language": "python",
   "name": "python3"
  },
  "language_info": {
   "codemirror_mode": {
    "name": "ipython",
    "version": 3
   },
   "file_extension": ".py",
   "mimetype": "text/x-python",
   "name": "python",
   "nbconvert_exporter": "python",
   "pygments_lexer": "ipython3",
   "version": "3.12.3"
  }
 },
 "nbformat": 4,
 "nbformat_minor": 5
}
