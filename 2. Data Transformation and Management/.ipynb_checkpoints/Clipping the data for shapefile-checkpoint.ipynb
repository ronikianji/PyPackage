{
 "cells": [
  {
   "cell_type": "code",
   "execution_count": null,
   "id": "78731165-a5c4-41eb-8fbc-2e593f9ec863",
   "metadata": {},
   "outputs": [],
   "source": [
    "import xarray as xr  \n",
    "import geopandas as gpd  \n",
    "from affine import Affine  \n",
    "from rasterio.features import geometry_mask  \n",
    "\n",
    "# Function to calculate the transform from the coordinates\n",
    "def calculate_transform(ds):\n",
    "    lon = ds['lon'].values  \n",
    "    lat = ds['lat'].values  \n",
    "    lon_res = (lon[1] - lon[0])  \n",
    "    lat_res = (lat[1] - lat[0])  \n",
    "    transform = Affine.translation(lon[0] - lon_res / 2, lat[0] - lat_res / 2) * Affine.scale(lon_res, lat_res)\n",
    "    return transform\n",
    "\n",
    "# Function to clip NetCDF data using a shapefile\n",
    "def clip_netcdf_with_shapefile(ds, shapefile):\n",
    "    transform = calculate_transform(ds)\n",
    "    geoms = shapefile.geometry.values  \n",
    "    mask = geometry_mask([geom for geom in geoms],  \n",
    "                         transform=transform,  \n",
    "                         invert=True,  \n",
    "                         out_shape=(ds.dims['lat'], ds.dims['lon']))\n",
    "    \n",
    "    mask_da = xr.DataArray(mask, dims=(\"lat\", \"lon\"), coords={\"lat\": ds[\"lat\"], \"lon\": ds[\"lon\"]})\n",
    "    clipped_ds = ds.where(mask_da, drop=True)  \n",
    "    return clipped_ds\n"
   ]
  },
  {
   "cell_type": "code",
   "execution_count": null,
   "id": "0ef526d3-32ff-4be7-ae19-6391d15f337c",
   "metadata": {},
   "outputs": [],
   "source": [
    "# Define file paths\n",
    "nc_file_path = \"D:/path/to/your_nc_file.nc\"  # Replace with the path to your NetCDF file\n",
    "shapefile_path = \"D:/path/to/your_shapefile.shp\"  # Replace with the path to your shapefile\n",
    "shapefile = gpd.read_file(shapefile_path) \n",
    "ds = xr.open_dataset(nc_file_path, engine='netcdf4')  \n",
    "\n",
    "# Clip the NetCDF data\n",
    "clipped_ds = clip_netcdf_with_shapefile(ds, shapefile)  # Call the clipping function\n",
    "\n",
    "# Save the clipped data to a new NetCDF file\n",
    "clipped_ds.to_netcdf('path/to/your_output_file.nc', engine='netcdf4')  # Specify the output file path where the clipped data will be saved\n",
    "\n",
    "print(\"Clipping completed and saved to 'path/to/your_output_file.nc'\")"
   ]
  }
 ],
 "metadata": {
  "kernelspec": {
   "display_name": "Python 3 (ipykernel)",
   "language": "python",
   "name": "python3"
  },
  "language_info": {
   "codemirror_mode": {
    "name": "ipython",
    "version": 3
   },
   "file_extension": ".py",
   "mimetype": "text/x-python",
   "name": "python",
   "nbconvert_exporter": "python",
   "pygments_lexer": "ipython3",
   "version": "3.12.3"
  }
 },
 "nbformat": 4,
 "nbformat_minor": 5
}
