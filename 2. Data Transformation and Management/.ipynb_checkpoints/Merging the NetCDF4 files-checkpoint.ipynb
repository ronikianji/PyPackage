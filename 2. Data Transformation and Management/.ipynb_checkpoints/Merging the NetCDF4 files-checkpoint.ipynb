{
 "cells": [
  {
   "cell_type": "code",
   "execution_count": null,
   "id": "7a606e88-11b6-4dac-8189-bc0419613914",
   "metadata": {},
   "outputs": [],
   "source": [
    "import os  \n",
    "import xarray as xr  \n",
    "\n",
    "# File paths for your NetCDF files (replace these with actual file paths if necessary)\n",
    "filepaths = [\n",
    "    \"your_nc_file1.nc4\",  \n",
    "    \"your_nc_file2.nc4\",  \n",
    "    \"your_nc_file3.nc4\"  \n",
    "]\n",
    "\n",
    "# Merge the specified NetCDF files by their coordinates\n",
    "merged_ds = xr.open_mfdataset(filepaths, combine='by_coords')\n",
    "merged_filepath = \"your_merged_file.nc\"  # Define the path to save the merged NetCDF file\n",
    "merged_ds.to_netcdf(merged_filepath)  \n",
    "\n",
    "# Print a success message to confirm the file has been saved\n",
    "print(\"Merged file saved successfully:\", merged_filepath)  \n"
   ]
  }
 ],
 "metadata": {
  "kernelspec": {
   "display_name": "Python 3 (ipykernel)",
   "language": "python",
   "name": "python3"
  },
  "language_info": {
   "codemirror_mode": {
    "name": "ipython",
    "version": 3
   },
   "file_extension": ".py",
   "mimetype": "text/x-python",
   "name": "python",
   "nbconvert_exporter": "python",
   "pygments_lexer": "ipython3",
   "version": "3.12.3"
  }
 },
 "nbformat": 4,
 "nbformat_minor": 5
}
