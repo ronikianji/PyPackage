{
 "cells": [
  {
   "cell_type": "code",
   "execution_count": null,
   "id": "52dd9dd4-2a62-4d02-8944-d814b73a02a1",
   "metadata": {},
   "outputs": [],
   "source": [
    "# Interpolate NaN values using interpolation\n",
    "\n",
    "# Replace 'df' with your actual DataFrame name containing NaN values\n",
    "df = df.interpolate(method='linear')  # You can change 'linear' to another interpolation method if needed\n",
    "\n",
    "# Display the resulting DataFrame with interpolated values\n",
    "df\n"
   ]
  }
 ],
 "metadata": {
  "kernelspec": {
   "display_name": "Python 3 (ipykernel)",
   "language": "python",
   "name": "python3"
  },
  "language_info": {
   "codemirror_mode": {
    "name": "ipython",
    "version": 3
   },
   "file_extension": ".py",
   "mimetype": "text/x-python",
   "name": "python",
   "nbconvert_exporter": "python",
   "pygments_lexer": "ipython3",
   "version": "3.12.3"
  }
 },
 "nbformat": 4,
 "nbformat_minor": 5
}
