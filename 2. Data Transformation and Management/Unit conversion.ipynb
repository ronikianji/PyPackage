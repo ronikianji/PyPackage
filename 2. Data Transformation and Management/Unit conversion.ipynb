{
 "cells": [
  {
   "cell_type": "code",
   "execution_count": null,
   "id": "e7fe8f61-c7dd-4054-85f1-579dbada273a",
   "metadata": {},
   "outputs": [],
   "source": [
    "# Assuming 'df' is your DataFrame with the following columns:\n",
    "# 'Variable1' is in meters (m), 'Variable2' is in cubic meters per hour (m³/hr),\n",
    "# 'Variable3' is in centimeters (cm), and 'Variable4' is in cubic meters per second (m³/sec).\n",
    "\n",
    "# Convert 'Variable1' from meters (m) to millimeters (mm)\n",
    "df['Variable1_mm'] = df['Variable1'] * 1000          # 1 meter = 1000 millimeters\n",
    "\n",
    "# Convert 'Variable2' from cubic meters per hour (m³/hr) to cubic meters per second (m³/sec)\n",
    "df['Variable2_m3_sec'] = df['Variable2'] / 3600      # 1 hour = 3600 seconds\n",
    "\n",
    "# Convert 'Variable3' from centimeters (cm) to feet (ft)\n",
    "df['Variable3_ft'] = df['Variable3'] / 30.48         # 1 foot = 30.48 centimeters\n",
    "\n",
    "# Convert 'Variable4' from cubic meters per second (m³/sec) to cubic feet per second (ft³/sec)\n",
    "df['Variable4_ft3_sec'] = df['Variable4'] * 35.3147  # 1 m³ = 35.3147 ft³\n",
    "\n",
    "# Display the DataFrame with the new columns\n",
    "df"
   ]
  }
 ],
 "metadata": {
  "kernelspec": {
   "display_name": "Python 3 (ipykernel)",
   "language": "python",
   "name": "python3"
  },
  "language_info": {
   "codemirror_mode": {
    "name": "ipython",
    "version": 3
   },
   "file_extension": ".py",
   "mimetype": "text/x-python",
   "name": "python",
   "nbconvert_exporter": "python",
   "pygments_lexer": "ipython3",
   "version": "3.12.3"
  }
 },
 "nbformat": 4,
 "nbformat_minor": 5
}
