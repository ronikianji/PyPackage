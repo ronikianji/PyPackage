{
 "cells": [
  {
   "cell_type": "code",
   "execution_count": null,
   "id": "b9b59ac5-66f5-41b1-875c-b98551618877",
   "metadata": {},
   "outputs": [],
   "source": [
    "import xarray as xr  \n",
    "import numpy as np \n",
    "\n",
    "# Replace 'your_file.nc' with the actual file path\n",
    "your_dataset = xr.open_dataset('your_file.nc')  \n",
    "\n",
    "# Replace 'your_time_variable' with the name of the time variable in your NetCDF file\n",
    "time = your_dataset['your_time_variable']  \n",
    "\n",
    "# Convert the numeric time values to datetime format\n",
    "base_date = np.datetime64('2002-01-01T00:00:00') # Define the base date (replace this with the base date if needed, here it's set to 2002-01-01)\n",
    "time_values = time[:]  \n",
    "time_datetimes = base_date + np.timedelta64(1, 'D') * time_values  \n",
    "time_np = time_datetimes.values  \n",
    "\n",
    "# Generate the expected sequence of monthly time steps between the minimum and maximum time points\n",
    "start_time = time_np.min() \n",
    "end_time = time_np.max()  \n",
    "expected_times = np.arange(start_time, end_time, np.timedelta64(1, 'M'), dtype='datetime64[M]')  \n",
    "missing_times = np.setdiff1d(expected_times, time_np.astype('datetime64[M]')) \n",
    "missing_numerical_time_steps = ((missing_times - base_date) / np.timedelta64(1, 'D')).astype(int)  \n",
    "\n",
    "# Print the missing numerical time steps\n",
    "print(\"Missing numerical time steps:\")  \n",
    "for missing_time_step in missing_numerical_time_steps:\n",
    "    print(missing_time_step)  # Print each missing time step\n"
   ]
  }
 ],
 "metadata": {
  "kernelspec": {
   "display_name": "Python 3 (ipykernel)",
   "language": "python",
   "name": "python3"
  },
  "language_info": {
   "codemirror_mode": {
    "name": "ipython",
    "version": 3
   },
   "file_extension": ".py",
   "mimetype": "text/x-python",
   "name": "python",
   "nbconvert_exporter": "python",
   "pygments_lexer": "ipython3",
   "version": "3.12.3"
  }
 },
 "nbformat": 4,
 "nbformat_minor": 5
}
