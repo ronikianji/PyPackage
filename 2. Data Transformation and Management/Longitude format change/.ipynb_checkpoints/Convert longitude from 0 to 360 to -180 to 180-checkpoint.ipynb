{
 "cells": [
  {
   "cell_type": "code",
   "execution_count": null,
   "id": "dd7c41f3-0196-4cf1-8f8b-37d1701f02a0",
   "metadata": {},
   "outputs": [],
   "source": [
    "import pandas as pd  \n",
    "\n",
    "resolution = 0.25  ### Replace '0.25' with the resolution of your data ###\n",
    "\n",
    "adjustment = resolution / 2\n",
    "df['lon'] = df['lon'].apply(lambda x: ((x + adjustment) % 360) - 180)   # Replace `df` with your DataFrame name\n",
    "df"
   ]
  }
 ],
 "metadata": {
  "kernelspec": {
   "display_name": "Python 3 (ipykernel)",
   "language": "python",
   "name": "python3"
  },
  "language_info": {
   "codemirror_mode": {
    "name": "ipython",
    "version": 3
   },
   "file_extension": ".py",
   "mimetype": "text/x-python",
   "name": "python",
   "nbconvert_exporter": "python",
   "pygments_lexer": "ipython3",
   "version": "3.12.3"
  }
 },
 "nbformat": 4,
 "nbformat_minor": 5
}
