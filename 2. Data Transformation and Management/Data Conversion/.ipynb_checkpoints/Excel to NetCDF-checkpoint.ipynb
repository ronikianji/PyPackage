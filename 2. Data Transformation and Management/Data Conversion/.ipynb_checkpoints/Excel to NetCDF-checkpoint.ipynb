{
 "cells": [
  {
   "cell_type": "code",
   "execution_count": null,
   "id": "d7c0b730-92fa-4507-80b6-93eb95216437",
   "metadata": {},
   "outputs": [],
   "source": [
    "import pandas as pd  \n",
    "import xarray as xr  \n",
    "\n",
    "# Read the Excel file into a Pandas DataFrame\n",
    "excel_file = \"your_file.xlsx\"  # Specify the path to your Excel file\n",
    "df = pd.read_excel(excel_file)\n",
    "\n",
    "# Convert the DataFrame into an xarray Dataset\n",
    "ds = xr.Dataset.from_dataframe(df) \n",
    "\n",
    "# Save the xarray Dataset as a NetCDF file\n",
    "netcdf_file = \"output_file.nc\"  # Specify the path where you want to save the NetCDF file\n",
    "ds.to_netcdf(netcdf_file)  \n",
    "\n",
    "# Print a message indicating that the conversion is complete\n",
    "print(f\"Excel file '{excel_file}' has been converted to NetCDF '{netcdf_file}'\") \n"
   ]
  }
 ],
 "metadata": {
  "kernelspec": {
   "display_name": "Python 3 (ipykernel)",
   "language": "python",
   "name": "python3"
  },
  "language_info": {
   "codemirror_mode": {
    "name": "ipython",
    "version": 3
   },
   "file_extension": ".py",
   "mimetype": "text/x-python",
   "name": "python",
   "nbconvert_exporter": "python",
   "pygments_lexer": "ipython3",
   "version": "3.12.3"
  }
 },
 "nbformat": 4,
 "nbformat_minor": 5
}
