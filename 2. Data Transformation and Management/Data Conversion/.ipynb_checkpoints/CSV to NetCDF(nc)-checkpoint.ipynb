{
 "cells": [
  {
   "cell_type": "code",
   "execution_count": null,
   "id": "ec3798f5-53d0-4bcc-8cf7-a5e1cee69b98",
   "metadata": {},
   "outputs": [],
   "source": [
    "import pandas as pd  \n",
    "import xarray as xr \n",
    "\n",
    "# Read the CSV file into a Pandas DataFrame\n",
    "csv_file = \"your_file.csv\"      # Specify the path to your CSV file\n",
    "df = pd.read_csv(csv_file)  \n",
    "\n",
    "# Convert the DataFrame into an xarray Dataset\n",
    "ds = xr.Dataset.from_dataframe(df) \n",
    "\n",
    "# Save the xarray Dataset as a NetCDF file\n",
    "netcdf_file = \"output_file.nc\"  # Specify the path where you want to save the NetCDF file\n",
    "ds.to_netcdf(netcdf_file)  \n",
    "\n",
    "# Print a message indicating that the conversion is complete\n",
    "print(f\"CSV file '{csv_file}' has been converted to NetCDF '{netcdf_file}'\")  \n"
   ]
  }
 ],
 "metadata": {
  "kernelspec": {
   "display_name": "Python 3 (ipykernel)",
   "language": "python",
   "name": "python3"
  },
  "language_info": {
   "codemirror_mode": {
    "name": "ipython",
    "version": 3
   },
   "file_extension": ".py",
   "mimetype": "text/x-python",
   "name": "python",
   "nbconvert_exporter": "python",
   "pygments_lexer": "ipython3",
   "version": "3.12.3"
  }
 },
 "nbformat": 4,
 "nbformat_minor": 5
}
