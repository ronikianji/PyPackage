{
 "cells": [
  {
   "cell_type": "code",
   "execution_count": null,
   "id": "c7baa6c3-80b4-4206-ab6f-e265bb2708d7",
   "metadata": {},
   "outputs": [],
   "source": [
    "import xarray as xr \n",
    "\n",
    "# Replace 'ds' with the desired name to save the NetCDF file.\n",
    "ds = xr.Dataset.from_dataframe(df)        # Replace `df` with the name of your DataFrame\n",
    "\n",
    "ds.to_netcdf('your_output_file.nc')       # Replace 'your_output_file.nc' with the desired path where you want to save the NetCDF file"
   ]
  }
 ],
 "metadata": {
  "kernelspec": {
   "display_name": "Python 3 (ipykernel)",
   "language": "python",
   "name": "python3"
  },
  "language_info": {
   "codemirror_mode": {
    "name": "ipython",
    "version": 3
   },
   "file_extension": ".py",
   "mimetype": "text/x-python",
   "name": "python",
   "nbconvert_exporter": "python",
   "pygments_lexer": "ipython3",
   "version": "3.12.3"
  }
 },
 "nbformat": 4,
 "nbformat_minor": 5
}
