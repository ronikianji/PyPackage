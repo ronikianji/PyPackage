{
 "cells": [
  {
   "cell_type": "code",
   "execution_count": null,
   "id": "1e728cdc-f211-4726-8ebf-1e7a5fa28827",
   "metadata": {},
   "outputs": [],
   "source": [
    "import pandas as pd  \n",
    "import netCDF4 as nc  \n",
    "import numpy as np  \n",
    "\n",
    "file_path = \"your_file.nc\"                       # Replace 'your_file.nc' with the path to your actual NetCDF file\n",
    "\n",
    "# Open the NetCDF file for reading\n",
    "with nc.Dataset(file_path, 'r') as dataset:  \n",
    "    time_var = dataset.variables['time'][:]      # Replace 'time' with the actual variable name for the time in your file\n",
    "    lat_var = dataset.variables['lat'][:]        # Replace 'lat' with the actual variable name for latitude\n",
    "    lon_var = dataset.variables['lon'][:]        # Replace 'lon' with the actual variable name for longitude\n",
    "    data_var = dataset.variables['variable'][:]  # Replace 'variable' with the actual variable name for data\n",
    "\n",
    "time_2d, lat_2d, lon_2d = np.meshgrid(time_var, lat_var, lon_var, indexing='ij')  \n",
    "data_1d = data_var.flatten()  \n",
    "df = pd.DataFrame({                              # Replace 'df' with the name you want to initialize for your DataFrame\n",
    "    'time': time_2d.flatten(),  \n",
    "    'lat': lat_2d.flatten(),   \n",
    "    'lon': lon_2d.flatten(),    \n",
    "    'variable': data_1d        \n",
    "})\n",
    "df  "
   ]
  },
  {
   "cell_type": "code",
   "execution_count": null,
   "id": "0092d11a-5bd6-4a0e-8ddd-e48c835f9ab9",
   "metadata": {},
   "outputs": [],
   "source": [
    "import numpy as np\n",
    "import matplotlib.pyplot as plt\n",
    "\n",
    "# Assuming 'df' is the DataFrame with a column 'your variable'\n",
    "\n",
    "# Plot the seasonality data for one dataset\n",
    "plt.figure(figsize=(14, 8))  \n",
    "\n",
    "# Plot the 'your variable' column from the DataFrame\n",
    "plt.plot(df.index, df['your variable'], marker='o', label='Mean SMS', linewidth=2.5)  \n",
    "\n",
    "# Customize the plot\n",
    "plt.title('Your Variable Name Seasonality for One Dataset', fontsize=16, fontweight='bold')  ### Change the title as per your requirement ###\n",
    "plt.xlabel('Month', fontsize=26, fontweight='bold', color='black')  \n",
    "plt.ylabel('Your Variable', fontsize=26, fontweight='bold', color='black')                   ### Replace 'Your Variable' with the actual variable name ###\n",
    "plt.xticks(np.arange(1, 13), \n",
    "           ['Jan', 'Feb', 'Mar', 'Apr', 'May', 'Jun', 'Jul', 'Aug', 'Sep', 'Oct', 'Nov', 'Dec'],\n",
    "           fontsize=26, fontweight='bold', color='black')  \n",
    "plt.yticks(fontsize=26, fontweight='bold', color='black')  \n",
    "plt.legend(loc='upper right', bbox_to_anchor=(1, 1.0), prop={'size': 26, 'weight': 'bold'}, frameon=False)  \n",
    "\n",
    "# Enhance grid and spines for better visibility\n",
    "plt.grid(True, which='both', linestyle=':', linewidth=0.5, color='gray')  \n",
    "plt.gca().spines['top'].set_color('black')  \n",
    "plt.gca().spines['right'].set_color('black')  \n",
    "plt.gca().spines['bottom'].set_color('black')  \n",
    "plt.gca().spines['left'].set_color('black')  \n",
    "\n",
    "# Set x-axis limits from 1 to 12 (for months)\n",
    "plt.xlim(1, 12)  \n",
    "plt.tight_layout()  \n",
    "\n",
    "# Replace 'your_filename.tiff' with the desired filename when saving the plot\n",
    "plt.savefig('your_filename.tiff', dpi=200, bbox_inches='tight') \n",
    "plt.show()\n"
   ]
  }
 ],
 "metadata": {
  "kernelspec": {
   "display_name": "Python 3 (ipykernel)",
   "language": "python",
   "name": "python3"
  },
  "language_info": {
   "codemirror_mode": {
    "name": "ipython",
    "version": 3
   },
   "file_extension": ".py",
   "mimetype": "text/x-python",
   "name": "python",
   "nbconvert_exporter": "python",
   "pygments_lexer": "ipython3",
   "version": "3.12.3"
  }
 },
 "nbformat": 4,
 "nbformat_minor": 5
}
