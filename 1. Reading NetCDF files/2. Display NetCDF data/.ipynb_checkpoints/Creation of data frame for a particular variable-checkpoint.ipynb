{
 "cells": [
  {
   "cell_type": "code",
   "execution_count": null,
   "id": "8b828876-b72b-4a65-aa4e-2123727d2399",
   "metadata": {},
   "outputs": [],
   "source": [
    "import pandas as pd  \n",
    "import netCDF4 as nc  \n",
    "import numpy as np  \n",
    "\n",
    "file_path = \"your_file.nc\"                       # Replace 'your_file.nc' with the path to your actual NetCDF file\n",
    "\n",
    "# Open the NetCDF file for reading\n",
    "with nc.Dataset(file_path, 'r') as dataset:  \n",
    "    time_var = dataset.variables['time'][:]      # Replace 'time' with the actual variable name for the time in your file\n",
    "    lat_var = dataset.variables['lat'][:]        # Replace 'lat' with the actual variable name for latitude\n",
    "    lon_var = dataset.variables['lon'][:]        # Replace 'lon' with the actual variable name for longitude\n",
    "    data_var = dataset.variables['variable'][:]  # Replace 'variable' with the actual variable name for data\n",
    "\n",
    "time_2d, lat_2d, lon_2d = np.meshgrid(time_var, lat_var, lon_var, indexing='ij')  \n",
    "data_1d = data_var.flatten()  \n",
    "df = pd.DataFrame({                              # Replace 'df' with the name you want to initialize for your DataFrame\n",
    "    'time': time_2d.flatten(),  \n",
    "    'lat': lat_2d.flatten(),   \n",
    "    'lon': lon_2d.flatten(),    \n",
    "    'variable': data_1d        \n",
    "})\n",
    "df  "
   ]
  }
 ],
 "metadata": {
  "kernelspec": {
   "display_name": "Python 3 (ipykernel)",
   "language": "python",
   "name": "python3"
  },
  "language_info": {
   "codemirror_mode": {
    "name": "ipython",
    "version": 3
   },
   "file_extension": ".py",
   "mimetype": "text/x-python",
   "name": "python",
   "nbconvert_exporter": "python",
   "pygments_lexer": "ipython3",
   "version": "3.12.3"
  }
 },
 "nbformat": 4,
 "nbformat_minor": 5
}
