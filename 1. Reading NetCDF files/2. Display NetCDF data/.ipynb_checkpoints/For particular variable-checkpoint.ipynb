{
 "cells": [
  {
   "cell_type": "code",
   "execution_count": null,
   "id": "5474b460-08b8-44ea-8ee8-b197ec66e100",
   "metadata": {},
   "outputs": [],
   "source": [
    "import netCDF4 as nc \n",
    "file_path = \"your_file.nc\"  # Replace with the path to your NetCDF file\n",
    "dataset = nc.Dataset(file_path, 'r')  \n",
    "print(dataset)  \n",
    "print(\"Here are all the variables of your data\") \n",
    "print(dataset.variables.keys())  "
   ]
  },
  {
   "cell_type": "code",
   "execution_count": null,
   "id": "cf0a3b99-46de-4199-a728-2be7ccff62c1",
   "metadata": {},
   "outputs": [],
   "source": [
    "# Replace 'your_variable' with the actual variable name you want to access from the dataset\n",
    "your_variable = dataset.variables['your_variable']  \n",
    "your_variable_data = your_variable[:]  \n",
    "\n",
    "print(\"Shape of your_variable_data:\", your_variable_data.shape)      # Prints the shape of the data\n",
    "print(\"Data type of your_variable_data:\", your_variable_data.dtype)  # Prints the data type of the data"
   ]
  }
 ],
 "metadata": {
  "kernelspec": {
   "display_name": "Python 3 (ipykernel)",
   "language": "python",
   "name": "python3"
  },
  "language_info": {
   "codemirror_mode": {
    "name": "ipython",
    "version": 3
   },
   "file_extension": ".py",
   "mimetype": "text/x-python",
   "name": "python",
   "nbconvert_exporter": "python",
   "pygments_lexer": "ipython3",
   "version": "3.12.3"
  }
 },
 "nbformat": 4,
 "nbformat_minor": 5
}
