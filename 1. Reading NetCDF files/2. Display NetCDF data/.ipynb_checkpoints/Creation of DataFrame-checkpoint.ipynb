{
 "cells": [
  {
   "cell_type": "code",
   "execution_count": null,
   "id": "5f305e1c-6f0f-421a-aaf1-a510f09177bb",
   "metadata": {},
   "outputs": [],
   "source": [
    "import xarray as xr \n",
    "ds = xr.open_dataset(\"your_file.nc\")  # Replace \"your_file.nc\" with the path to your NetCDF file\n",
    "\n",
    "df = ds.to_dataframe().reset_index()  # Replace 'df' with the name you want to initialize for your DataFrame\n",
    "\n",
    "# Display the DataFrame\n",
    "df  \n"
   ]
  }
 ],
 "metadata": {
  "kernelspec": {
   "display_name": "Python 3 (ipykernel)",
   "language": "python",
   "name": "python3"
  },
  "language_info": {
   "codemirror_mode": {
    "name": "ipython",
    "version": 3
   },
   "file_extension": ".py",
   "mimetype": "text/x-python",
   "name": "python",
   "nbconvert_exporter": "python",
   "pygments_lexer": "ipython3",
   "version": "3.12.3"
  }
 },
 "nbformat": 4,
 "nbformat_minor": 5
}
